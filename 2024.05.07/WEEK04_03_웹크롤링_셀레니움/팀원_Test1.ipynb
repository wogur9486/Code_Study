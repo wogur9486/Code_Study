{
 "cells": [
  {
   "cell_type": "code",
   "execution_count": 4,
   "id": "6050984c",
   "metadata": {},
   "outputs": [],
   "source": [
    "try:\n",
    "    # selenum의 webdriver에 앞서 설치한 chromedirver를 연동한다.\n",
    "    driver = webdriver.Chrome(\"\")\n",
    "    time.sleep(1)\n",
    "    # 코드랩 접속\n",
    "    url = 'https://ezitlms.co.kr/sign-in'\n",
    "    driver.get(url)\n",
    "    time.sleep(1)\n",
    "    \n",
    "    # 로그인\n",
    "    driver.find_element(By.ID, value = 'input-17').send_keys('wogurgg@naver.com')\n",
    "    driver.find_element(By.ID, value = 'input-18').send_keys('@Qkr10694215')\n",
    "    driver.find_element(By.ID, value = 'input-18').send_keys(Keys.ENTER)\n",
    "    time.sleep(1)\n",
    "    \n",
    "    # 인증번호 전송 버튼 클릭\n",
    "    driver.find_element(By.XPATH, value = '//*[@id=\"app\"]/div/main/div/div[1]/div/div[2]/div[1]/dialog/div/div[2]/div/div[2]/button').send_keys(Keys.ENTER)\n",
    "    time.sleep(1)\n",
    "    \n",
    "    # 인증 번호 입력창으로 커서 이동(따로 마우스 이동 없이 번호만 입력할 수 있게)\n",
    "    pyautogui.click(500, 620)\n",
    "    time.sleep(13)\n",
    "    \n",
    "    # 인증 번호 직접 입력 후 인증확인 버튼 클릭\n",
    "    driver.find_element(By.XPATH, value = '//*[@id=\"app\"]/div/main/div/div[1]/div/div[2]/div[1]/dialog/div/div[2]/div/div[3]/button').send_keys(Keys.ENTER)\n",
    "    time.sleep(1)\n",
    "    \n",
    "    # 클래스룸 접속\n",
    "    driver.find_element(By.XPATH, value = '//*[@id=\"app\"]/div/main/div/div[1]/div/ul/li/div/div/div[2]/button[1]').send_keys(Keys.ENTER)\n",
    "    time.sleep(1)\n",
    "    \n",
    "    # 팝업창 전환\n",
    "    driver.switch_to.window(driver.window_handles[1])\n",
    "    time.sleep(7)\n",
    "    \n",
    "    # 줌 들어가기 버튼 클릭\n",
    "    driver.find_element(By.XPATH, value = '//*[@id=\"live-session-line-banner\"]/div/div[2]/button[1]').send_keys(Keys.ENTER)\n",
    "    time.sleep(1)\n",
    "    \n",
    "#     # 마우스 좌표 입력하여 클릭으로 줌 접속\n",
    "#     pyautogui.click(550, 250)\n",
    "\n",
    "except:\n",
    "    pass"
   ]
  },
  {
   "cell_type": "code",
   "execution_count": 2,
   "id": "96c1638f",
   "metadata": {},
   "outputs": [],
   "source": [
    "from selenium import webdriver\n",
    "from selenium.webdriver.common.by import By\n",
    "from selenium.webdriver.support.ui import WebDriverWait\n",
    "from selenium.webdriver.support import expected_conditions as EC\n",
    "\n",
    "# # Chrome 브라우저 열기\n",
    "# driver = webdriver.Chrome()\n",
    "\n",
    "# # 웹 페이지 열기\n",
    "# driver.get(\"https://zoom.us/j/95423193380#success\")\n",
    "\n",
    "# # 팝업 창이나 프레임 안에 있는 요소를 클릭하기 위해 해당 팝업 창이나 프레임으로 전환해야 할 수 있습니다.\n",
    "# # 예를 들어, 팝업 창으로 전환하려면 다음과 같이 합니다.\n",
    "# driver.switch_to.window(window_name)\n",
    "\n",
    "# # 팝업 창 안에 있는 항목 클릭하기\n",
    "# element = WebDriverWait(driver, 10).until(EC.element_to_be_clickable((By.ID, \"element_id\")))\n",
    "# element.click()\n",
    "\n",
    "# # 웹 브라우저 닫기\n",
    "# driver.quit()"
   ]
  },
  {
   "cell_type": "code",
   "execution_count": null,
   "id": "810f9181",
   "metadata": {},
   "outputs": [],
   "source": []
  }
 ],
 "metadata": {
  "kernelspec": {
   "display_name": "Python 3 (ipykernel)",
   "language": "python",
   "name": "python3"
  },
  "language_info": {
   "codemirror_mode": {
    "name": "ipython",
    "version": 3
   },
   "file_extension": ".py",
   "mimetype": "text/x-python",
   "name": "python",
   "nbconvert_exporter": "python",
   "pygments_lexer": "ipython3",
   "version": "3.9.12"
  }
 },
 "nbformat": 4,
 "nbformat_minor": 5
}
