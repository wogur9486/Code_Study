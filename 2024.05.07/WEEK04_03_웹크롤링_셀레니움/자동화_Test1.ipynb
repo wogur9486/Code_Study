{
 "cells": [
  {
   "cell_type": "code",
   "execution_count": 1,
   "id": "dd7cc45b",
   "metadata": {},
   "outputs": [],
   "source": [
    "# !pip install pyautogui\n",
    "from selenium import webdriver\n",
    "from selenium.webdriver.common.by import By\n",
    "from selenium.webdriver.common.keys import Keys\n",
    "import time\n",
    "import pyautogui\n",
    "from bs4 import BeautifulSoup"
   ]
  },
  {
   "cell_type": "code",
   "execution_count": 42,
   "id": "8a80ff3d",
   "metadata": {},
   "outputs": [],
   "source": [
    "driver = webdriver.Chrome(\"\")"
   ]
  },
  {
   "cell_type": "code",
   "execution_count": 43,
   "id": "1089a784",
   "metadata": {},
   "outputs": [],
   "source": [
    "url = \"https://ezitlms.co.kr/sign-in\"\n",
    "driver.get(url)"
   ]
  },
  {
   "cell_type": "code",
   "execution_count": null,
   "id": "cf0cb1ba",
   "metadata": {},
   "outputs": [],
   "source": []
  },
  {
   "cell_type": "code",
   "execution_count": 44,
   "id": "31fe87c2",
   "metadata": {},
   "outputs": [],
   "source": [
    "driver.find_element(By.ID, value=\"input-17\").send_keys('wogurgg@naver.com')"
   ]
  },
  {
   "cell_type": "code",
   "execution_count": 45,
   "id": "0da03963",
   "metadata": {},
   "outputs": [],
   "source": [
    "driver.find_element(By.ID, value = 'input-18').send_keys('@Qkr10694215')"
   ]
  },
  {
   "cell_type": "code",
   "execution_count": 46,
   "id": "350ffc8a",
   "metadata": {},
   "outputs": [],
   "source": [
    "driver.find_element(By.XPATH, value='//*[@id=\"app\"]/div/main/div/div[1]/div/div[2]/div[1]/div/div[1]/form/button/span').click()"
   ]
  },
  {
   "cell_type": "code",
   "execution_count": 47,
   "id": "f7440063",
   "metadata": {},
   "outputs": [],
   "source": [
    "driver.find_element(By.XPATH, value='//*[@id=\"app\"]/div/main/div/div[1]/div/div[2]/div[1]/dialog/div/div[2]/div/div[2]/button/span').click()\n",
    "time.sleep(10)"
   ]
  },
  {
   "cell_type": "code",
   "execution_count": 48,
   "id": "a174da1d",
   "metadata": {},
   "outputs": [],
   "source": [
    "driver.find_element(By.XPATH, value='//*[@id=\"app\"]/div/main/div/div[1]/div/div[2]/div[1]/dialog/div/div[2]/div/div[3]/button/span').click()"
   ]
  },
  {
   "cell_type": "code",
   "execution_count": 49,
   "id": "66b25971",
   "metadata": {},
   "outputs": [],
   "source": [
    "driver.find_element(By.XPATH, value='//*[@id=\"app\"]/div/main/div/div[1]/div/ul/li/div/div/div[2]/button[1]/span').click()\n"
   ]
  },
  {
   "cell_type": "code",
   "execution_count": 50,
   "id": "581cfd29",
   "metadata": {},
   "outputs": [],
   "source": [
    "driver.find_element(By.XPATH, value='//*[@id=\"app\"]/div/main/div/div[1]/div/ul/li/div/div/div[2]/button[1]/span').click()"
   ]
  },
  {
   "cell_type": "code",
   "execution_count": 51,
   "id": "212e1d7d",
   "metadata": {},
   "outputs": [],
   "source": [
    "driver.switch_to.window(driver.window_handles[1])"
   ]
  },
  {
   "cell_type": "code",
   "execution_count": 55,
   "id": "72676615",
   "metadata": {
    "scrolled": true
   },
   "outputs": [],
   "source": [
    "driver.find_element(By.XPATH, value = '//*[@id=\"live-session-line-banner\"]/div/div[2]/button[1]').send_keys(Keys.ENTER)"
   ]
  },
  {
   "cell_type": "code",
   "execution_count": 59,
   "id": "a9e3a7a3",
   "metadata": {},
   "outputs": [
    {
     "ename": "NoSuchElementException",
     "evalue": "Message: no such element: Unable to locate element: {\"method\":\"xpath\",\"selector\":\"//*[@id=\"zoom-ui-frame\"]/div[2]/div/div[1]/div\"}\n  (Session info: chrome=124.0.6367.119); For documentation on this error, please visit: https://www.selenium.dev/documentation/webdriver/troubleshooting/errors#no-such-element-exception\nStacktrace:\n\tGetHandleVerifier [0x00007FF734341572+60802]\n\t(No symbol) [0x00007FF7342BAC72]\n\t(No symbol) [0x00007FF734177CE4]\n\t(No symbol) [0x00007FF7341C6D4D]\n\t(No symbol) [0x00007FF7341C6E1C]\n\t(No symbol) [0x00007FF73420CE37]\n\t(No symbol) [0x00007FF7341EABBF]\n\t(No symbol) [0x00007FF73420A224]\n\t(No symbol) [0x00007FF7341EA923]\n\t(No symbol) [0x00007FF7341B8FEC]\n\t(No symbol) [0x00007FF7341B9C21]\n\tGetHandleVerifier [0x00007FF73464420D+3217949]\n\tGetHandleVerifier [0x00007FF7346861A7+3488183]\n\tGetHandleVerifier [0x00007FF73467F12F+3459391]\n\tGetHandleVerifier [0x00007FF7343FB936+823622]\n\t(No symbol) [0x00007FF7342C600F]\n\t(No symbol) [0x00007FF7342C0F34]\n\t(No symbol) [0x00007FF7342C10C2]\n\t(No symbol) [0x00007FF7342B1914]\n\tBaseThreadInitThunk [0x00007FFAEE8A7344+20]\n\tRtlUserThreadStart [0x00007FFAEE9E26B1+33]\n",
     "output_type": "error",
     "traceback": [
      "\u001b[1;31m---------------------------------------------------------------------------\u001b[0m",
      "\u001b[1;31mNoSuchElementException\u001b[0m                    Traceback (most recent call last)",
      "Input \u001b[1;32mIn [59]\u001b[0m, in \u001b[0;36m<cell line: 1>\u001b[1;34m()\u001b[0m\n\u001b[1;32m----> 1\u001b[0m \u001b[43mdriver\u001b[49m\u001b[38;5;241;43m.\u001b[39;49m\u001b[43mfind_element\u001b[49m\u001b[43m(\u001b[49m\u001b[43mBy\u001b[49m\u001b[38;5;241;43m.\u001b[39;49m\u001b[43mXPATH\u001b[49m\u001b[43m,\u001b[49m\u001b[43m \u001b[49m\u001b[43mvalue\u001b[49m\u001b[38;5;241;43m=\u001b[39;49m\u001b[38;5;124;43m'\u001b[39;49m\u001b[38;5;124;43m//*[@id=\u001b[39;49m\u001b[38;5;124;43m\"\u001b[39;49m\u001b[38;5;124;43mzoom-ui-frame\u001b[39;49m\u001b[38;5;124;43m\"\u001b[39;49m\u001b[38;5;124;43m]/div[2]/div/div[1]/div\u001b[39;49m\u001b[38;5;124;43m'\u001b[39;49m\u001b[43m)\u001b[49m\u001b[38;5;241m.\u001b[39mclick()\n",
      "File \u001b[1;32mC:\\ProgramData\\Anaconda3\\lib\\site-packages\\selenium\\webdriver\\remote\\webdriver.py:741\u001b[0m, in \u001b[0;36mWebDriver.find_element\u001b[1;34m(self, by, value)\u001b[0m\n\u001b[0;32m    738\u001b[0m     by \u001b[38;5;241m=\u001b[39m By\u001b[38;5;241m.\u001b[39mCSS_SELECTOR\n\u001b[0;32m    739\u001b[0m     value \u001b[38;5;241m=\u001b[39m \u001b[38;5;124mf\u001b[39m\u001b[38;5;124m'\u001b[39m\u001b[38;5;124m[name=\u001b[39m\u001b[38;5;124m\"\u001b[39m\u001b[38;5;132;01m{\u001b[39;00mvalue\u001b[38;5;132;01m}\u001b[39;00m\u001b[38;5;124m\"\u001b[39m\u001b[38;5;124m]\u001b[39m\u001b[38;5;124m'\u001b[39m\n\u001b[1;32m--> 741\u001b[0m \u001b[38;5;28;01mreturn\u001b[39;00m \u001b[38;5;28;43mself\u001b[39;49m\u001b[38;5;241;43m.\u001b[39;49m\u001b[43mexecute\u001b[49m\u001b[43m(\u001b[49m\u001b[43mCommand\u001b[49m\u001b[38;5;241;43m.\u001b[39;49m\u001b[43mFIND_ELEMENT\u001b[49m\u001b[43m,\u001b[49m\u001b[43m \u001b[49m\u001b[43m{\u001b[49m\u001b[38;5;124;43m\"\u001b[39;49m\u001b[38;5;124;43musing\u001b[39;49m\u001b[38;5;124;43m\"\u001b[39;49m\u001b[43m:\u001b[49m\u001b[43m \u001b[49m\u001b[43mby\u001b[49m\u001b[43m,\u001b[49m\u001b[43m \u001b[49m\u001b[38;5;124;43m\"\u001b[39;49m\u001b[38;5;124;43mvalue\u001b[39;49m\u001b[38;5;124;43m\"\u001b[39;49m\u001b[43m:\u001b[49m\u001b[43m \u001b[49m\u001b[43mvalue\u001b[49m\u001b[43m}\u001b[49m\u001b[43m)\u001b[49m[\u001b[38;5;124m\"\u001b[39m\u001b[38;5;124mvalue\u001b[39m\u001b[38;5;124m\"\u001b[39m]\n",
      "File \u001b[1;32mC:\\ProgramData\\Anaconda3\\lib\\site-packages\\selenium\\webdriver\\remote\\webdriver.py:347\u001b[0m, in \u001b[0;36mWebDriver.execute\u001b[1;34m(self, driver_command, params)\u001b[0m\n\u001b[0;32m    345\u001b[0m response \u001b[38;5;241m=\u001b[39m \u001b[38;5;28mself\u001b[39m\u001b[38;5;241m.\u001b[39mcommand_executor\u001b[38;5;241m.\u001b[39mexecute(driver_command, params)\n\u001b[0;32m    346\u001b[0m \u001b[38;5;28;01mif\u001b[39;00m response:\n\u001b[1;32m--> 347\u001b[0m     \u001b[38;5;28;43mself\u001b[39;49m\u001b[38;5;241;43m.\u001b[39;49m\u001b[43merror_handler\u001b[49m\u001b[38;5;241;43m.\u001b[39;49m\u001b[43mcheck_response\u001b[49m\u001b[43m(\u001b[49m\u001b[43mresponse\u001b[49m\u001b[43m)\u001b[49m\n\u001b[0;32m    348\u001b[0m     response[\u001b[38;5;124m\"\u001b[39m\u001b[38;5;124mvalue\u001b[39m\u001b[38;5;124m\"\u001b[39m] \u001b[38;5;241m=\u001b[39m \u001b[38;5;28mself\u001b[39m\u001b[38;5;241m.\u001b[39m_unwrap_value(response\u001b[38;5;241m.\u001b[39mget(\u001b[38;5;124m\"\u001b[39m\u001b[38;5;124mvalue\u001b[39m\u001b[38;5;124m\"\u001b[39m, \u001b[38;5;28;01mNone\u001b[39;00m))\n\u001b[0;32m    349\u001b[0m     \u001b[38;5;28;01mreturn\u001b[39;00m response\n",
      "File \u001b[1;32mC:\\ProgramData\\Anaconda3\\lib\\site-packages\\selenium\\webdriver\\remote\\errorhandler.py:229\u001b[0m, in \u001b[0;36mErrorHandler.check_response\u001b[1;34m(self, response)\u001b[0m\n\u001b[0;32m    227\u001b[0m         alert_text \u001b[38;5;241m=\u001b[39m value[\u001b[38;5;124m\"\u001b[39m\u001b[38;5;124malert\u001b[39m\u001b[38;5;124m\"\u001b[39m]\u001b[38;5;241m.\u001b[39mget(\u001b[38;5;124m\"\u001b[39m\u001b[38;5;124mtext\u001b[39m\u001b[38;5;124m\"\u001b[39m)\n\u001b[0;32m    228\u001b[0m     \u001b[38;5;28;01mraise\u001b[39;00m exception_class(message, screen, stacktrace, alert_text)  \u001b[38;5;66;03m# type: ignore[call-arg]  # mypy is not smart enough here\u001b[39;00m\n\u001b[1;32m--> 229\u001b[0m \u001b[38;5;28;01mraise\u001b[39;00m exception_class(message, screen, stacktrace)\n",
      "\u001b[1;31mNoSuchElementException\u001b[0m: Message: no such element: Unable to locate element: {\"method\":\"xpath\",\"selector\":\"//*[@id=\"zoom-ui-frame\"]/div[2]/div/div[1]/div\"}\n  (Session info: chrome=124.0.6367.119); For documentation on this error, please visit: https://www.selenium.dev/documentation/webdriver/troubleshooting/errors#no-such-element-exception\nStacktrace:\n\tGetHandleVerifier [0x00007FF734341572+60802]\n\t(No symbol) [0x00007FF7342BAC72]\n\t(No symbol) [0x00007FF734177CE4]\n\t(No symbol) [0x00007FF7341C6D4D]\n\t(No symbol) [0x00007FF7341C6E1C]\n\t(No symbol) [0x00007FF73420CE37]\n\t(No symbol) [0x00007FF7341EABBF]\n\t(No symbol) [0x00007FF73420A224]\n\t(No symbol) [0x00007FF7341EA923]\n\t(No symbol) [0x00007FF7341B8FEC]\n\t(No symbol) [0x00007FF7341B9C21]\n\tGetHandleVerifier [0x00007FF73464420D+3217949]\n\tGetHandleVerifier [0x00007FF7346861A7+3488183]\n\tGetHandleVerifier [0x00007FF73467F12F+3459391]\n\tGetHandleVerifier [0x00007FF7343FB936+823622]\n\t(No symbol) [0x00007FF7342C600F]\n\t(No symbol) [0x00007FF7342C0F34]\n\t(No symbol) [0x00007FF7342C10C2]\n\t(No symbol) [0x00007FF7342B1914]\n\tBaseThreadInitThunk [0x00007FFAEE8A7344+20]\n\tRtlUserThreadStart [0x00007FFAEE9E26B1+33]\n"
     ]
    }
   ],
   "source": [
    "driver.find_element(By.XPATH, value='//*[@id=\"zoom-ui-frame\"]/div[2]/div/div[1]/div').click()"
   ]
  },
  {
   "cell_type": "code",
   "execution_count": null,
   "id": "80c34bb5",
   "metadata": {},
   "outputs": [],
   "source": []
  },
  {
   "cell_type": "code",
   "execution_count": null,
   "id": "16a63bfc",
   "metadata": {},
   "outputs": [],
   "source": []
  },
  {
   "cell_type": "code",
   "execution_count": 62,
   "id": "e9194b47",
   "metadata": {},
   "outputs": [],
   "source": [
    "try:\n",
    "    # selenum의 webdriver에 앞서 설치한 chromedirver를 연동한다.\n",
    "    driver = webdriver.Chrome(\"\")\n",
    "    time.sleep(1)\n",
    "    # 코드랩 접속\n",
    "    url = 'https://ezitlms.co.kr/sign-in'\n",
    "    driver.get(url)\n",
    "    time.sleep(1)\n",
    "    \n",
    "    # 로그인\n",
    "    driver.find_element(By.ID, value = 'input-17').send_keys('wogurgg@naver.com')\n",
    "    driver.find_element(By.ID, value = 'input-18').send_keys('@Qkr10694215')\n",
    "    driver.find_element(By.ID, value = 'input-18').send_keys(Keys.ENTER)\n",
    "    time.sleep(1)\n",
    "    \n",
    "    # 인증번호 전송 버튼 클릭\n",
    "    driver.find_element(By.XPATH, value = '//*[@id=\"app\"]/div/main/div/div[1]/div/div[2]/div[1]/dialog/div/div[2]/div/div[2]/button').send_keys(Keys.ENTER)\n",
    "    time.sleep(1)\n",
    "    \n",
    "    # 인증 번호 입력창으로 커서 이동(따로 마우스 이동 없이 번호만 입력할 수 있게)\n",
    "    pyautogui.click(500, 620)\n",
    "    time.sleep(13)\n",
    "    \n",
    "    # 인증 번호 직접 입력 후 인증확인 버튼 클릭\n",
    "    driver.find_element(By.XPATH, value = '//*[@id=\"app\"]/div/main/div/div[1]/div/div[2]/div[1]/dialog/div/div[2]/div/div[3]/button').send_keys(Keys.ENTER)\n",
    "    time.sleep(1)\n",
    "    \n",
    "    # 클래스룸 접속\n",
    "    driver.find_element(By.XPATH, value = '//*[@id=\"app\"]/div/main/div/div[1]/div/ul/li/div/div/div[2]/button[1]').send_keys(Keys.ENTER)\n",
    "    time.sleep(1)\n",
    "    \n",
    "    # 팝업창 전환\n",
    "    driver.switch_to.window(driver.window_handles[1])\n",
    "    time.sleep(7)\n",
    "    \n",
    "    # 줌 들어가기 버튼 클릭\n",
    "    driver.find_element(By.XPATH, value = '//*[@id=\"live-session-line-banner\"]/div/div[2]/button[1]').send_keys(Keys.ENTER)\n",
    "    time.sleep(5)\n",
    "    \n",
    "    # 마우스 좌표 입력하여 클릭으로 줌 접속\n",
    "    pyautogui.click(550, 250)\n",
    "\n",
    "except:\n",
    "    pass"
   ]
  },
  {
   "cell_type": "code",
   "execution_count": null,
   "id": "729d9035",
   "metadata": {},
   "outputs": [],
   "source": []
  }
 ],
 "metadata": {
  "kernelspec": {
   "display_name": "Python 3 (ipykernel)",
   "language": "python",
   "name": "python3"
  },
  "language_info": {
   "codemirror_mode": {
    "name": "ipython",
    "version": 3
   },
   "file_extension": ".py",
   "mimetype": "text/x-python",
   "name": "python",
   "nbconvert_exporter": "python",
   "pygments_lexer": "ipython3",
   "version": "3.9.12"
  }
 },
 "nbformat": 4,
 "nbformat_minor": 5
}
