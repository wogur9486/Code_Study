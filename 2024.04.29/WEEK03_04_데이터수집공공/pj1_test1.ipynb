{
 "cells": [
  {
   "cell_type": "code",
   "execution_count": 20,
   "metadata": {},
   "outputs": [],
   "source": [
    "import pandas as pd\n",
    "import requests\n",
    "from bs4 import BeautifulSoup\n",
    "import xml.etree.ElementTree as ET\n"
   ]
  },
  {
   "cell_type": "code",
   "execution_count": 6,
   "metadata": {},
   "outputs": [
    {
     "data": {
      "text/plain": [
       "'http://apis.data.go.kr/B551011/KorService1/locationBasedList1?serviceKey=QkiT9isHn%2FngYj7SJNBftK290c7SSWktGzgux4c8T%2Bu5%2BHox2jrUAqrY%2BdIjzM9XMSYrqLuzpU5V%2BvqTyvIs8Q%3D%3D&numOfRows=10&pageNo=1&MobileOS=ETC&MobileApp=AppTest&arrange=A&mapX=126.983745&mapY=37.563446&radius=100&listYN=Y'"
      ]
     },
     "execution_count": 6,
     "metadata": {},
     "output_type": "execute_result"
    }
   ],
   "source": [
    "base_url = \"http://apis.data.go.kr/B551011/KorService1/locationBasedList1?serviceKey=QkiT9isHn%2FngYj7SJNBftK290c7SSWktGzgux4c8T%2Bu5%2BHox2jrUAqrY%2BdIjzM9XMSYrqLuzpU5V%2BvqTyvIs8Q%3D%3D&numOfRows=10&pageNo=1&MobileOS=ETC&MobileApp=AppTest&arrange=A&mapX=126.983745&mapY=37.563446&radius=100&listYN=Y\"\n",
    "base_url"
   ]
  },
  {
   "cell_type": "code",
   "execution_count": 15,
   "metadata": {},
   "outputs": [
    {
     "data": {
      "text/plain": [
       "'http://apis.data.go.kr/B551011/KorService1/locationBasedList1?serviceKey=QkiT9isHn%2FngYj7SJNBftK290c7SSWktGzgux4c8T%2Bu5%2BHox2jrUAqrY%2BdIjzM9XMSYrqLuzpU5V%2BvqTyvIs8Q%3D%3D&numOfRows=10&pageNo=1&MobileOS=ETC&MobileApp=AppTest&arrange=A&mapX=126.983745&mapY=37.563446&radius=100&listYN=Y&contentTypeId=15'"
      ]
     },
     "execution_count": 15,
     "metadata": {},
     "output_type": "execute_result"
    }
   ],
   "source": [
    "contentTypeId = '15'\n",
    "url = base_url + \"&\" + \"contentTypeId=\" + contentTypeId\n",
    "url\n",
    "\n"
   ]
  },
  {
   "cell_type": "code",
   "execution_count": 16,
   "metadata": {},
   "outputs": [
    {
     "data": {
      "text/plain": [
       "<Response [200]>"
      ]
     },
     "execution_count": 16,
     "metadata": {},
     "output_type": "execute_result"
    }
   ],
   "source": [
    "response = requests.get(url)\n",
    "response"
   ]
  },
  {
   "cell_type": "code",
   "execution_count": 17,
   "metadata": {},
   "outputs": [
    {
     "data": {
      "text/plain": [
       "'<?xml version=\"1.0\" encoding=\"UTF-8\" standalone=\"yes\"?><response><header>\\n  <resultCode>0000</resultCode>\\n  <resultMsg>OK</resultMsg>\\n</header><body><items>\\n  <item>\\n    <addr1>서울특별시 중구 명동길 26</addr1>\\n    <addr2>(명동2가)</addr2>\\n    <areacode>1</areacode>\\n    <booktour></booktour>\\n    <cat1>A02</cat1>\\n    <cat2>A0208</cat2>\\n    <cat3>A02080300</cat3>\\n    <contentid>406745</contentid>\\n    <contenttypeid>15</contenttypeid>\\n    <createdtime>20080119030330</createdtime>\\n    <dist>0.06921878630450205</dist>\\n    <firstimage>http://tong.visitkorea.or.kr/cms/resource/86/2034286_image2_1.jpg</firstimage>\\n    <firstimage2>http://tong.visitkorea.or.kr/cms/resource/86/2034286_image3_1.jpg</firstimage2>\\n    <cpyrhtDivCd>Type3</cpyrhtDivCd>\\n    <mapx>126.9837456304</mapx>\\n    <mapy>37.5634463660</mapy>\\n    <mlevel>6</mlevel>\\n    <modifiedtime>20231130141754</modifiedtime>\\n    <sigungucode>24</sigungucode>\\n    <tel>02-739-8288</tel>\\n    <title>난타 (명동)</title>\\n  </item>\\n  <item>\\n    <addr1>서울특별시 중구 명동길 14 (명동2가)</addr1>\\n    <addr2></addr2>\\n    <areacode>1</areacode>\\n    <booktour></booktour>\\n    <cat1>A02</cat1>\\n    <cat2>A0207</cat2>\\n    <cat3>A02070200</cat3>\\n    <contentid>3013577</contentid>\\n    <contenttypeid>15</contenttypeid>\\n    <createdtime>20230920175635</createdtime>\\n    <dist>73.81619532837625</dist>\\n    <firstimage>http://tong.visitkorea.or.kr/cms/resource/74/3013574_image2_1.jpg</firstimage>\\n    <firstimage2>http://tong.visitkorea.or.kr/cms/resource/74/3013574_image3_1.jpg</firstimage2>\\n    <cpyrhtDivCd>Type3</cpyrhtDivCd>\\n    <mapx>126.9829151500</mapx>\\n    <mapy>37.5634685712</mapy>\\n    <mlevel>6</mlevel>\\n    <modifiedtime>20240206130654</modifiedtime>\\n    <sigungucode>24</sigungucode>\\n    <tel>070-8670-2182</tel>\\n    <title>명동맥주페스티벌</title>\\n  </item>\\n  <item>\\n    <addr1>서울특별시 중구 명동길 35 (명동1가)</addr1>\\n    <addr2></addr2>\\n    <areacode>1</areacode>\\n    <booktour></booktour>\\n    <cat1>A02</cat1>\\n    <cat2>A0207</cat2>\\n    <cat3>A02070200</cat3>\\n    <contentid>3115909</contentid>\\n    <contenttypeid>15</contenttypeid>\\n    <createdtime>20240430153522</createdtime>\\n    <dist>82.79298267387925</dist>\\n    <firstimage>http://tong.visitkorea.or.kr/cms/resource/92/3115892_image2_1.png</firstimage>\\n    <firstimage2>http://tong.visitkorea.or.kr/cms/resource/92/3115892_image3_1.png</firstimage2>\\n    <cpyrhtDivCd>Type3</cpyrhtDivCd>\\n    <mapx>126.9842011262</mapx>\\n    <mapy>37.5640962986</mapy>\\n    <mlevel>6</mlevel>\\n    <modifiedtime>20240510151419</modifiedtime>\\n    <sigungucode>24</sigungucode>\\n    <tel>02-6000-4356</tel>\\n    <title>코리아뷰티페스티벌</title>\\n  </item>\\n</items>  <numOfRows>3</numOfRows>\\n  <pageNo>1</pageNo>\\n  <totalCount>3</totalCount>\\n</body></response>'"
      ]
     },
     "execution_count": 17,
     "metadata": {},
     "output_type": "execute_result"
    }
   ],
   "source": [
    "response_tx = response.text\n",
    "response_tx"
   ]
  },
  {
   "cell_type": "code",
   "execution_count": 22,
   "metadata": {},
   "outputs": [],
   "source": [
    "root = ET.fromstring(response_tx)\n",
    "\n",
    "data_list = []\n",
    "for item in root.findall('.//item'):\n",
    "    item_data = {child.tag: child.text for child in item}\n",
    "    data_list.append(item_data)"
   ]
  },
  {
   "cell_type": "code",
   "execution_count": 23,
   "metadata": {},
   "outputs": [
    {
     "data": {
      "text/plain": [
       "[{'addr1': '서울특별시 중구 명동길 26',\n",
       "  'addr2': '(명동2가)',\n",
       "  'areacode': '1',\n",
       "  'booktour': None,\n",
       "  'cat1': 'A02',\n",
       "  'cat2': 'A0208',\n",
       "  'cat3': 'A02080300',\n",
       "  'contentid': '406745',\n",
       "  'contenttypeid': '15',\n",
       "  'createdtime': '20080119030330',\n",
       "  'dist': '0.06921878630450205',\n",
       "  'firstimage': 'http://tong.visitkorea.or.kr/cms/resource/86/2034286_image2_1.jpg',\n",
       "  'firstimage2': 'http://tong.visitkorea.or.kr/cms/resource/86/2034286_image3_1.jpg',\n",
       "  'cpyrhtDivCd': 'Type3',\n",
       "  'mapx': '126.9837456304',\n",
       "  'mapy': '37.5634463660',\n",
       "  'mlevel': '6',\n",
       "  'modifiedtime': '20231130141754',\n",
       "  'sigungucode': '24',\n",
       "  'tel': '02-739-8288',\n",
       "  'title': '난타 (명동)'},\n",
       " {'addr1': '서울특별시 중구 명동길 14 (명동2가)',\n",
       "  'addr2': None,\n",
       "  'areacode': '1',\n",
       "  'booktour': None,\n",
       "  'cat1': 'A02',\n",
       "  'cat2': 'A0207',\n",
       "  'cat3': 'A02070200',\n",
       "  'contentid': '3013577',\n",
       "  'contenttypeid': '15',\n",
       "  'createdtime': '20230920175635',\n",
       "  'dist': '73.81619532837625',\n",
       "  'firstimage': 'http://tong.visitkorea.or.kr/cms/resource/74/3013574_image2_1.jpg',\n",
       "  'firstimage2': 'http://tong.visitkorea.or.kr/cms/resource/74/3013574_image3_1.jpg',\n",
       "  'cpyrhtDivCd': 'Type3',\n",
       "  'mapx': '126.9829151500',\n",
       "  'mapy': '37.5634685712',\n",
       "  'mlevel': '6',\n",
       "  'modifiedtime': '20240206130654',\n",
       "  'sigungucode': '24',\n",
       "  'tel': '070-8670-2182',\n",
       "  'title': '명동맥주페스티벌'},\n",
       " {'addr1': '서울특별시 중구 명동길 35 (명동1가)',\n",
       "  'addr2': None,\n",
       "  'areacode': '1',\n",
       "  'booktour': None,\n",
       "  'cat1': 'A02',\n",
       "  'cat2': 'A0207',\n",
       "  'cat3': 'A02070200',\n",
       "  'contentid': '3115909',\n",
       "  'contenttypeid': '15',\n",
       "  'createdtime': '20240430153522',\n",
       "  'dist': '82.79298267387925',\n",
       "  'firstimage': 'http://tong.visitkorea.or.kr/cms/resource/92/3115892_image2_1.png',\n",
       "  'firstimage2': 'http://tong.visitkorea.or.kr/cms/resource/92/3115892_image3_1.png',\n",
       "  'cpyrhtDivCd': 'Type3',\n",
       "  'mapx': '126.9842011262',\n",
       "  'mapy': '37.5640962986',\n",
       "  'mlevel': '6',\n",
       "  'modifiedtime': '20240510151419',\n",
       "  'sigungucode': '24',\n",
       "  'tel': '02-6000-4356',\n",
       "  'title': '코리아뷰티페스티벌'}]"
      ]
     },
     "execution_count": 23,
     "metadata": {},
     "output_type": "execute_result"
    }
   ],
   "source": [
    "data_list"
   ]
  },
  {
   "cell_type": "code",
   "execution_count": 24,
   "metadata": {},
   "outputs": [
    {
     "data": {
      "text/html": [
       "<div>\n",
       "<style scoped>\n",
       "    .dataframe tbody tr th:only-of-type {\n",
       "        vertical-align: middle;\n",
       "    }\n",
       "\n",
       "    .dataframe tbody tr th {\n",
       "        vertical-align: top;\n",
       "    }\n",
       "\n",
       "    .dataframe thead th {\n",
       "        text-align: right;\n",
       "    }\n",
       "</style>\n",
       "<table border=\"1\" class=\"dataframe\">\n",
       "  <thead>\n",
       "    <tr style=\"text-align: right;\">\n",
       "      <th></th>\n",
       "      <th>addr1</th>\n",
       "      <th>addr2</th>\n",
       "      <th>areacode</th>\n",
       "      <th>booktour</th>\n",
       "      <th>cat1</th>\n",
       "      <th>cat2</th>\n",
       "      <th>cat3</th>\n",
       "      <th>contentid</th>\n",
       "      <th>contenttypeid</th>\n",
       "      <th>createdtime</th>\n",
       "      <th>...</th>\n",
       "      <th>firstimage</th>\n",
       "      <th>firstimage2</th>\n",
       "      <th>cpyrhtDivCd</th>\n",
       "      <th>mapx</th>\n",
       "      <th>mapy</th>\n",
       "      <th>mlevel</th>\n",
       "      <th>modifiedtime</th>\n",
       "      <th>sigungucode</th>\n",
       "      <th>tel</th>\n",
       "      <th>title</th>\n",
       "    </tr>\n",
       "  </thead>\n",
       "  <tbody>\n",
       "    <tr>\n",
       "      <th>0</th>\n",
       "      <td>서울특별시 중구 명동길 26</td>\n",
       "      <td>(명동2가)</td>\n",
       "      <td>1</td>\n",
       "      <td>None</td>\n",
       "      <td>A02</td>\n",
       "      <td>A0208</td>\n",
       "      <td>A02080300</td>\n",
       "      <td>406745</td>\n",
       "      <td>15</td>\n",
       "      <td>20080119030330</td>\n",
       "      <td>...</td>\n",
       "      <td>http://tong.visitkorea.or.kr/cms/resource/86/2...</td>\n",
       "      <td>http://tong.visitkorea.or.kr/cms/resource/86/2...</td>\n",
       "      <td>Type3</td>\n",
       "      <td>126.9837456304</td>\n",
       "      <td>37.5634463660</td>\n",
       "      <td>6</td>\n",
       "      <td>20231130141754</td>\n",
       "      <td>24</td>\n",
       "      <td>02-739-8288</td>\n",
       "      <td>난타 (명동)</td>\n",
       "    </tr>\n",
       "    <tr>\n",
       "      <th>1</th>\n",
       "      <td>서울특별시 중구 명동길 14 (명동2가)</td>\n",
       "      <td>None</td>\n",
       "      <td>1</td>\n",
       "      <td>None</td>\n",
       "      <td>A02</td>\n",
       "      <td>A0207</td>\n",
       "      <td>A02070200</td>\n",
       "      <td>3013577</td>\n",
       "      <td>15</td>\n",
       "      <td>20230920175635</td>\n",
       "      <td>...</td>\n",
       "      <td>http://tong.visitkorea.or.kr/cms/resource/74/3...</td>\n",
       "      <td>http://tong.visitkorea.or.kr/cms/resource/74/3...</td>\n",
       "      <td>Type3</td>\n",
       "      <td>126.9829151500</td>\n",
       "      <td>37.5634685712</td>\n",
       "      <td>6</td>\n",
       "      <td>20240206130654</td>\n",
       "      <td>24</td>\n",
       "      <td>070-8670-2182</td>\n",
       "      <td>명동맥주페스티벌</td>\n",
       "    </tr>\n",
       "    <tr>\n",
       "      <th>2</th>\n",
       "      <td>서울특별시 중구 명동길 35 (명동1가)</td>\n",
       "      <td>None</td>\n",
       "      <td>1</td>\n",
       "      <td>None</td>\n",
       "      <td>A02</td>\n",
       "      <td>A0207</td>\n",
       "      <td>A02070200</td>\n",
       "      <td>3115909</td>\n",
       "      <td>15</td>\n",
       "      <td>20240430153522</td>\n",
       "      <td>...</td>\n",
       "      <td>http://tong.visitkorea.or.kr/cms/resource/92/3...</td>\n",
       "      <td>http://tong.visitkorea.or.kr/cms/resource/92/3...</td>\n",
       "      <td>Type3</td>\n",
       "      <td>126.9842011262</td>\n",
       "      <td>37.5640962986</td>\n",
       "      <td>6</td>\n",
       "      <td>20240510151419</td>\n",
       "      <td>24</td>\n",
       "      <td>02-6000-4356</td>\n",
       "      <td>코리아뷰티페스티벌</td>\n",
       "    </tr>\n",
       "  </tbody>\n",
       "</table>\n",
       "<p>3 rows × 21 columns</p>\n",
       "</div>"
      ],
      "text/plain": [
       "                    addr1   addr2 areacode booktour cat1   cat2       cat3  \\\n",
       "0         서울특별시 중구 명동길 26  (명동2가)        1     None  A02  A0208  A02080300   \n",
       "1  서울특별시 중구 명동길 14 (명동2가)    None        1     None  A02  A0207  A02070200   \n",
       "2  서울특별시 중구 명동길 35 (명동1가)    None        1     None  A02  A0207  A02070200   \n",
       "\n",
       "  contentid contenttypeid     createdtime  ...  \\\n",
       "0    406745            15  20080119030330  ...   \n",
       "1   3013577            15  20230920175635  ...   \n",
       "2   3115909            15  20240430153522  ...   \n",
       "\n",
       "                                          firstimage  \\\n",
       "0  http://tong.visitkorea.or.kr/cms/resource/86/2...   \n",
       "1  http://tong.visitkorea.or.kr/cms/resource/74/3...   \n",
       "2  http://tong.visitkorea.or.kr/cms/resource/92/3...   \n",
       "\n",
       "                                         firstimage2 cpyrhtDivCd  \\\n",
       "0  http://tong.visitkorea.or.kr/cms/resource/86/2...       Type3   \n",
       "1  http://tong.visitkorea.or.kr/cms/resource/74/3...       Type3   \n",
       "2  http://tong.visitkorea.or.kr/cms/resource/92/3...       Type3   \n",
       "\n",
       "             mapx           mapy mlevel    modifiedtime sigungucode  \\\n",
       "0  126.9837456304  37.5634463660      6  20231130141754          24   \n",
       "1  126.9829151500  37.5634685712      6  20240206130654          24   \n",
       "2  126.9842011262  37.5640962986      6  20240510151419          24   \n",
       "\n",
       "             tel      title  \n",
       "0    02-739-8288    난타 (명동)  \n",
       "1  070-8670-2182   명동맥주페스티벌  \n",
       "2   02-6000-4356  코리아뷰티페스티벌  \n",
       "\n",
       "[3 rows x 21 columns]"
      ]
     },
     "execution_count": 24,
     "metadata": {},
     "output_type": "execute_result"
    }
   ],
   "source": [
    "df = pd.DataFrame(data_list)\n",
    "df"
   ]
  },
  {
   "cell_type": "code",
   "execution_count": 25,
   "metadata": {},
   "outputs": [],
   "source": [
    "df2 = df[[\"addr1\", \"addr2\", \"contenttypeid\",\"mapx\",\"mapy\",\"tel\",\"title\"]]"
   ]
  },
  {
   "cell_type": "code",
   "execution_count": 26,
   "metadata": {},
   "outputs": [
    {
     "data": {
      "text/html": [
       "<div>\n",
       "<style scoped>\n",
       "    .dataframe tbody tr th:only-of-type {\n",
       "        vertical-align: middle;\n",
       "    }\n",
       "\n",
       "    .dataframe tbody tr th {\n",
       "        vertical-align: top;\n",
       "    }\n",
       "\n",
       "    .dataframe thead th {\n",
       "        text-align: right;\n",
       "    }\n",
       "</style>\n",
       "<table border=\"1\" class=\"dataframe\">\n",
       "  <thead>\n",
       "    <tr style=\"text-align: right;\">\n",
       "      <th></th>\n",
       "      <th>addr1</th>\n",
       "      <th>addr2</th>\n",
       "      <th>contenttypeid</th>\n",
       "      <th>mapx</th>\n",
       "      <th>mapy</th>\n",
       "      <th>tel</th>\n",
       "      <th>title</th>\n",
       "    </tr>\n",
       "  </thead>\n",
       "  <tbody>\n",
       "    <tr>\n",
       "      <th>0</th>\n",
       "      <td>서울특별시 중구 명동길 26</td>\n",
       "      <td>(명동2가)</td>\n",
       "      <td>15</td>\n",
       "      <td>126.9837456304</td>\n",
       "      <td>37.5634463660</td>\n",
       "      <td>02-739-8288</td>\n",
       "      <td>난타 (명동)</td>\n",
       "    </tr>\n",
       "    <tr>\n",
       "      <th>1</th>\n",
       "      <td>서울특별시 중구 명동길 14 (명동2가)</td>\n",
       "      <td>None</td>\n",
       "      <td>15</td>\n",
       "      <td>126.9829151500</td>\n",
       "      <td>37.5634685712</td>\n",
       "      <td>070-8670-2182</td>\n",
       "      <td>명동맥주페스티벌</td>\n",
       "    </tr>\n",
       "    <tr>\n",
       "      <th>2</th>\n",
       "      <td>서울특별시 중구 명동길 35 (명동1가)</td>\n",
       "      <td>None</td>\n",
       "      <td>15</td>\n",
       "      <td>126.9842011262</td>\n",
       "      <td>37.5640962986</td>\n",
       "      <td>02-6000-4356</td>\n",
       "      <td>코리아뷰티페스티벌</td>\n",
       "    </tr>\n",
       "  </tbody>\n",
       "</table>\n",
       "</div>"
      ],
      "text/plain": [
       "                    addr1   addr2 contenttypeid            mapx  \\\n",
       "0         서울특별시 중구 명동길 26  (명동2가)            15  126.9837456304   \n",
       "1  서울특별시 중구 명동길 14 (명동2가)    None            15  126.9829151500   \n",
       "2  서울특별시 중구 명동길 35 (명동1가)    None            15  126.9842011262   \n",
       "\n",
       "            mapy            tel      title  \n",
       "0  37.5634463660    02-739-8288    난타 (명동)  \n",
       "1  37.5634685712  070-8670-2182   명동맥주페스티벌  \n",
       "2  37.5640962986   02-6000-4356  코리아뷰티페스티벌  "
      ]
     },
     "execution_count": 26,
     "metadata": {},
     "output_type": "execute_result"
    }
   ],
   "source": [
    "df2"
   ]
  },
  {
   "cell_type": "code",
   "execution_count": null,
   "metadata": {},
   "outputs": [],
   "source": []
  }
 ],
 "metadata": {
  "kernelspec": {
   "display_name": "ds_study",
   "language": "python",
   "name": "python3"
  },
  "language_info": {
   "codemirror_mode": {
    "name": "ipython",
    "version": 3
   },
   "file_extension": ".py",
   "mimetype": "text/x-python",
   "name": "python",
   "nbconvert_exporter": "python",
   "pygments_lexer": "ipython3",
   "version": "3.8.19"
  }
 },
 "nbformat": 4,
 "nbformat_minor": 2
}
